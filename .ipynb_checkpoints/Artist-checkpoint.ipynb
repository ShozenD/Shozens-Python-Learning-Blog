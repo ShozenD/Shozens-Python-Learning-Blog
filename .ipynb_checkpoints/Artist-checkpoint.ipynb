{
 "cells": [
  {
   "cell_type": "markdown",
   "metadata": {},
   "source": [
    "# Artist\n",
    "\n",
    "This is the first in a series (hopefully) tutorials for my self and maybe others on how to use matplotlib library. As we all know graphs are an essential part of EDA and so many other important data analysis processes. So I figured it would be convienient for me to take some time and learn how to use this powerful but also some what complicated graphing library.\n",
    "\n",
    "In this section we will cover `Artist` objects. This is a summary of the tutorial on the [matplotlib website].(https://matplotlib.org/3.2.1/tutorials/intermediate/artists.html#sphx-glr-tutorials-intermediate-artists-py)"
   ]
  },
  {
   "cell_type": "markdown",
   "metadata": {},
   "source": [
    "### Introduction\n",
    "\n",
    "First we must know that there are three layers to the matplotlib API. They are as follows:\n",
    "\n",
    "* `FigureCanvas`: *matplotlib.backend_bases.FigureCanvas* is the area onto which the figure is drawn\n",
    "* `Renderer`: *matplotlib.backend_bases.Renderer* is the object which know how to draw on the `FigureCanvas`.\n",
    "* `Artist`: *matplotlib.artist.Artist* is the object that knows how to use a renderer to paint onto the canvas. \n",
    "\n",
    "The typical user (us) will spend 95% of our time working with `Artist` which is why we should learn all this stuff...\n",
    "\n",
    "### Two Types of Artists\n",
    "There are two types of Artists working at matplotlib inc..\n",
    "1. **Primitives** are Line2D, Rectangle, Text, AxesImage, and all the other shapes.\n",
    "2. **Containers** are the Axis, Axes and Figures that we place Primitives on.\n",
    "\n",
    "Standard practice is to use `matplotlib.pyplot.figure()` to create *Figure* instances and connecting them with user interface or drawing toolkit *FigureCanvas*. This is strictly speaking not necessary, but we want to focus on `Artists` so lets use this for the time being."
   ]
  },
  {
   "cell_type": "code",
   "execution_count": 1,
   "metadata": {},
   "outputs": [
    {
     "name": "stderr",
     "output_type": "stream",
     "text": [
      "findfont: Font family ['IPAexGothic'] not found. Falling back to DejaVu Sans.\n"
     ]
    },
    {
     "data": {
      "image/png": "[encoded data removed]",
      "text/plain": [
       "<Figure size 432x288 with 1 Axes>"
      ]
     },
     "metadata": {
      "needs_background": "light"
     },
     "output_type": "display_data"
    }
   ],
   "source": [
    "import matplotlib.pyplot as plt\n",
    "fig = plt.figure()\n",
    "ax = fig.add_subplot(2, 1, 1) # two rows, one column, first plot"
   ]
  },
  {
   "cell_type": "markdown",
   "metadata": {},
   "source": [
    "### Axes\n",
    "`Axes` is probably the most important class in the matplotlib API (so make sure to take some time and learn how to manipulate them), because tthey decide where all of our stuff go. \n",
    "\n",
    "Axes has many helper methods that we have probably used many times such as (`plot()`, `text()`, `hist()`, `imshow()`) to create the most common graphics primitives\n",
    "(`Line2D`, `Text`, `Rectangle`, `AxesImage`, respectivly). We should also be familiar with `Subplot`, which is a special case of an Axes that lives on a rows by columns grid of Subplot instances. If we wanted to created an Axes at an arbitrary location, use the `add_axes()` method which takes a list of \\[left, bottom, width, height\\] values in 0-1 relative figure coordinates"
   ]
  },
  {
   "cell_type": "code",
   "execution_count": null,
   "metadata": {},
   "outputs": [],
   "source": [
    "fig2 = plt.figure()\n",
    "ax2 = fig2.add_axes([0.15, 0.1, 0.7, 0.3])"
   ]
  },
  {
   "cell_type": "code",
   "execution_count": 2,
   "metadata": {},
   "outputs": [],
   "source": [
    "import numpy as np\n",
    "t = np.arange(0.0, 1.0, 0.01)\n",
    "s = np.sin(2*np.pi*t)\n",
    "line, = ax.plot(t, s, color='blue', lw=2)"
   ]
  },
  {
   "cell_type": "markdown",
   "metadata": {},
   "source": [
    "Remember we created an Axes instance ax above using the `fig.add_subplot` method. Now, when we call `ax.plot` it creates a `Line2D` instance and adds it to the `Axes.lines` list."
   ]
  },
  {
   "cell_type": "code",
   "execution_count": 3,
   "metadata": {},
   "outputs": [
    {
     "data": {
      "text/plain": [
       "<matplotlib.lines.Line2D at 0x11933d510>"
      ]
     },
     "execution_count": 3,
     "metadata": {},
     "output_type": "execute_result"
    }
   ],
   "source": [
    "ax.lines[0]"
   ]
  },
  {
   "cell_type": "markdown",
   "metadata": {},
   "source": [
    "At the moment, the ax.lines list has a length of 1 and contains the `Line2D` instance we created."
   ]
  },
  {
   "cell_type": "code",
   "execution_count": 4,
   "metadata": {},
   "outputs": [
    {
     "data": {
      "text/plain": [
       "<matplotlib.lines.Line2D at 0x11933d510>"
      ]
     },
     "execution_count": 4,
     "metadata": {},
     "output_type": "execute_result"
    }
   ],
   "source": [
    "line"
   ]
  },
  {
   "cell_type": "markdown",
   "metadata": {},
   "source": [
    "We can check that it is exactly the same line, returned to us by `ax.plot`. \n",
    "\n",
    "If we make subsequent calls to `ax.plot` while the \"hold\" state is on, then additional lines will be added to this list. We can remove the lines by simply using the list methods that are default in python."
   ]
  },
  {
   "cell_type": "code",
   "execution_count": null,
   "metadata": {},
   "outputs": [],
   "source": [
    "del ax.lines[0] \n",
    "ax.lines.remove(line) # use one not both!"
   ]
  },
  {
   "cell_type": "markdown",
   "metadata": {},
   "source": [
    "The Axes also has helper methods to configure and decorate the x-axis and the y-axis tick, tick labels, and axis labels:"
   ]
  },
  {
   "cell_type": "code",
   "execution_count": 5,
   "metadata": {},
   "outputs": [],
   "source": [
    "xtext = ax.set_xlabel('my xdata') # returns a Text instance\n",
    "ytext = ax.set_ylabel('my ydata')"
   ]
  },
  {
   "cell_type": "markdown",
   "metadata": {},
   "source": [
    "Each `Axes` instance also contain instances of `XAxis` and `YAxis` classes, which are responsible for handling tthe layout and drawing of the ticks, tick labels and axis labels. When we run `ax.set_xlabel` and `ax.set_ylabel` methods above, we pass `Text` objects to the XAxis and YAxis instances. \n",
    "\n",
    "Lets breakdown the following figure below with what we have learned."
   ]
  },
  {
   "cell_type": "code",
   "execution_count": 6,
   "metadata": {},
   "outputs": [
    {
     "name": "stderr",
     "output_type": "stream",
     "text": [
      "findfont: Font family ['IPAexGothic'] not found. Falling back to DejaVu Sans.\n"
     ]
    },
    {
     "data": {
      "image/png": "[encoded data removed]",
      "text/plain": [
       "<Figure size 432x288 with 2 Axes>"
      ]
     },
     "metadata": {
      "needs_background": "light"
     },
     "output_type": "display_data"
    }
   ],
   "source": [
    "import numpy as np\n",
    "import matplotlib.pyplot as plt\n",
    "\n",
    "fig = plt.figure() # create a Figure instance\n",
    "fig.subplots_adjust(top=0.8)\n",
    "ax1 = fig.add_subplot(211) # Add an Axes instance to figure at (two row, one col, first plot)\n",
    "ax1.set_ylabel('volts') # Create and pass a Text instance to YAxes within Axes object\n",
    "ax1.set_title('a sine wave')\n",
    "\n",
    "# Generate our data\n",
    "t = np.arange(0.0, 1.0, 0.01)\n",
    "s = np.sin(2*np.pi*t)\n",
    "line, = ax1.plot(t, s, color='blue', lw=2) # passing a Line instance to Axes\n",
    "\n",
    "# Fixing random state for reproducibility \n",
    "np.random.seed(19680801)\n",
    "\n",
    "ax2 = fig.add_axes([0.15, 0.1, 0.7, 0.3]) # adding a Axes to an arbitrary location!\n",
    "n, bins, patches = ax2.hist(np.random.randn(1000), 50,\n",
    "                            facecolor='yellow', edgecolor='yellow') # adding n, bins, and patches which I assume are objects to Axes\n",
    "ax2.set_xlabel('time (s)')\n",
    "\n",
    "plt.show() # Turn \"hold\" off!"
   ]
  },
  {
   "cell_type": "markdown",
   "metadata": {},
   "source": [
    "### Customizing Objects"
   ]
  },
  {
   "cell_type": "markdown",
   "metadata": {},
   "source": [
    "Every element in the figure is represented by a matplotlib `Artist`, and each has an extensive list of properties to configure its appearance. \n",
    "\n",
    "The figure itself contains a `Rectangle` exactly the size of the figure, which we can use to set the background color and transparency of the figures. This is stored in the member variable `Figure.patch`.\n",
    "\n",
    "White box and black edges, i.e. bounding box, of `Axes` also has a `Rectangle` instance that controls color, transparency, and other properties of that Axes. This is stored in the member variable `Axes.patch`\n",
    "\n",
    "**Fact**: The name \"Patch\" comes from MATLAB, and is a 2D \"patch\" of color on the figure, e.g., rectangle, circles and polygons.\n",
    "\n",
    "Lets sort of recreate a `Artist` object below to show the properties it has."
   ]
  },
  {
   "cell_type": "code",
   "execution_count": 7,
   "metadata": {},
   "outputs": [],
   "source": [
    "class Artist:\n",
    "    def __init__(self):\n",
    "        self.alpha = 1 # The transparency (0~1)\n",
    "        self.animated = True # A boolean that is used to facilitate animated drawing\n",
    "        self.axes = None # The axes that the Artist lives in, possibly None\n",
    "        self.clip_box = None # The bounding box that clips the Artist\n",
    "        self.clip_on = False # Whether clipping is enabled\n",
    "        self.clip_path = None # The path the artist is clipped to\n",
    "        self.contains = None # A picking function to test whether the artist contains the pick point\n",
    "        self.figure = None # The figure instance the artist lives in, possibly None\n",
    "        self.label = None # A text label \n",
    "        self.picker = None # A python object that controls object picking\n",
    "        self.transform = None # A transformation\n",
    "        self.visible = True # A boolean whether the artist should be drawn\n",
    "        self.zorder = 19 # A number that determines the drawing order\n",
    "        self.rasterized = False # Truns vectors intto raster graphics (for compression & eps transparency)\n",
    "    \n",
    "    # There is a set_property and get_property method for each property\n",
    "    def get_alpha(self):\n",
    "        return self.alpha\n",
    "    \n",
    "    def set_alpha(self, alpha: float):\n",
    "        self.alpha = alpha\n",
    "        \n",
    "    # There is a set method when we want to set multiple properties at once\n",
    "    def set(self, alpha: float, zorder: int):\n",
    "        self.alpha = alpha\n",
    "        self.zorder = zorder"
   ]
  },
  {
   "cell_type": "markdown",
   "metadata": {},
   "source": [
    "Each property is accessed in the \"traditional\" get and set methods. Which is very annoying but, matplotlib inc. is working on it."
   ]
  },
  {
   "cell_type": "code",
   "execution_count": 8,
   "metadata": {},
   "outputs": [],
   "source": [
    "o = Artist()\n",
    "a = o.get_alpha()\n",
    "o.set_alpha(0.5*a)"
   ]
  },
  {
   "cell_type": "markdown",
   "metadata": {},
   "source": [
    "If we want to set a number of properties at once, there is a `set` method that does this"
   ]
  },
  {
   "cell_type": "code",
   "execution_count": 9,
   "metadata": {},
   "outputs": [],
   "source": [
    "o.set(alpha=0.5, zorder=2)"
   ]
  },
  {
   "cell_type": "markdown",
   "metadata": {},
   "source": [
    "If you are working interactively with a python shell, a very handy way to inspect the `Artist` properties is to use the `matplotlib.artist.getp()` function (simply `getp()` in pyplot), which lists the properties and their values. This works for classes derived from Artist as well, e.g., Figure and Rectangle. Here are the Figure rectangle properties mentioned above:"
   ]
  },
  {
   "cell_type": "code",
   "execution_count": 10,
   "metadata": {},
   "outputs": [
    {
     "name": "stdout",
     "output_type": "stream",
     "text": [
      "    agg_filter = None\n",
      "    alpha = None\n",
      "    animated = False\n",
      "    antialiased or aa = False\n",
      "    bbox = Bbox(x0=0.0, y0=0.0, x1=1.0, y1=1.0)\n",
      "    capstyle = butt\n",
      "    children = []\n",
      "    clip_box = None\n",
      "    clip_on = True\n",
      "    clip_path = None\n",
      "    contains = None\n",
      "    data_transform = BboxTransformTo(     TransformedBbox(         Bbox...\n",
      "    edgecolor or ec = (1.0, 1.0, 1.0, 0.0)\n",
      "    extents = Bbox(x0=0.0, y0=0.0, x1=432.0, y1=288.0)\n",
      "    facecolor or fc = (1.0, 1.0, 1.0, 0.0)\n",
      "    figure = Figure(432x288)\n",
      "    fill = True\n",
      "    gid = None\n",
      "    hatch = None\n",
      "    height = 1\n",
      "    in_layout = True\n",
      "    joinstyle = miter\n",
      "    label = \n",
      "    linestyle or ls = solid\n",
      "    linewidth or lw = 0.0\n",
      "    patch_transform = CompositeGenericTransform(     BboxTransformTo(   ...\n",
      "    path = Path(array([[0., 0.],        [1., 0.],        [1.,...\n",
      "    path_effects = []\n",
      "    picker = None\n",
      "    rasterized = None\n",
      "    sketch_params = None\n",
      "    snap = None\n",
      "    transform = CompositeGenericTransform(     CompositeGenericTra...\n",
      "    transformed_clip_path_and_affine = (None, None)\n",
      "    url = None\n",
      "    verts = [[  0.   0.]  [432.   0.]  [432. 288.]  [  0. 288....\n",
      "    visible = True\n",
      "    width = 1\n",
      "    window_extent = Bbox(x0=0.0, y0=0.0, x1=432.0, y1=288.0)\n",
      "    x = 0\n",
      "    xy = (0, 0)\n",
      "    y = 0\n",
      "    zorder = 1\n"
     ]
    }
   ],
   "source": [
    "from matplotlib.artist import getp\n",
    "getp(fig.patch)"
   ]
  },
  {
   "cell_type": "markdown",
   "metadata": {},
   "source": [
    "The docstrings for all of the classes also contain the Artist properties, so you can consult the interactive \"help\" or the matplotlib.artist for a listing of properties for a given object."
   ]
  },
  {
   "cell_type": "markdown",
   "metadata": {},
   "source": [
    "### Object containers"
   ]
  },
  {
   "cell_type": "markdown",
   "metadata": {},
   "source": [
    "The section above covered how to inspect and set the properties of object we want to customize. In this section, we will learn about where the various container objects ,such as Axes and Figure, store the Artists."
   ]
  },
  {
   "cell_type": "markdown",
   "metadata": {},
   "source": [
    "#### Figure Container"
   ]
  },
  {
   "cell_type": "markdown",
   "metadata": {},
   "source": [
    "The top level container Artist is the `matplotlib.figure.Figure`, and it contains everything in the figure. The background of the figure is a Rectange which is stored in Figure.patch. As we add subplots and axes using `add_subplot` and `add_axes` methods, these will be appended to `Figure.axes`. The objects are also returned by the methods that create them."
   ]
  },
  {
   "cell_type": "code",
   "execution_count": 11,
   "metadata": {},
   "outputs": [
    {
     "name": "stdout",
     "output_type": "stream",
     "text": [
      "[<matplotlib.axes._subplots.AxesSubplot object at 0x119519610>, <matplotlib.axes._axes.Axes object at 0x1195b9250>]\n"
     ]
    },
    {
     "data": {
      "image/png": "[encoded data removed]",
      "text/plain": [
       "<Figure size 432x288 with 2 Axes>"
      ]
     },
     "metadata": {
      "needs_background": "light"
     },
     "output_type": "display_data"
    }
   ],
   "source": [
    "fig = plt.figure()\n",
    "\n",
    "ax1 = fig.add_subplot(211) # adds a subplot\n",
    "\n",
    "ax2 = fig.add_axes([0.1, 0.1, 0.7, 0.3])\n",
    "\n",
    "ax1\n",
    "\n",
    "print(fig.axes) # The two axes objects we have created will be displayed"
   ]
  },
  {
   "cell_type": "markdown",
   "metadata": {},
   "source": [
    "We should in general always use the `add_subplot()` and the `add_axes()` methods to insert, and the `delaxes()` method to delete Axes from the list. Also, we can iterate of over the list of axes or index into it to get access to Axes instances we want to customize. This is an example which turns all the axes grids on."
   ]
  },
  {
   "cell_type": "code",
   "execution_count": 12,
   "metadata": {},
   "outputs": [],
   "source": [
    "for ax in fig.axes:\n",
    "    ax.grid(True)"
   ]
  },
  {
   "cell_type": "markdown",
   "metadata": {},
   "source": [
    "The figure also has its own text, lines, patches and images, which we can use to add primitives directly. The default coordinate system is in pixels, which is incovienient for most cases but we can control this by setting the transform property of the Artist we are adding to the figure.\n",
    "\n",
    "More useful is the \"figure coordinates\" where (0, 0) is the bottom-left of the figure and (1, 1) is the top-right of the figure which we can obtain by setting the Artist transform to fig.transFigure:"
   ]
  },
  {
   "cell_type": "code",
   "execution_count": 14,
   "metadata": {},
   "outputs": [
    {
     "data": {
      "image/png": "[encoded data removed]",
      "text/plain": [
       "<Figure size 432x288 with 0 Axes>"
      ]
     },
     "metadata": {},
     "output_type": "display_data"
    }
   ],
   "source": [
    "import matplotlib.lines as lines\n",
    "\n",
    "fig = plt.figure()\n",
    "\n",
    "l1 = lines.Line2D([0, 1], [0, 1], transform=fig.transFigure, figure=fig)\n",
    "l2 = lines.Line2D([0, 1], [1, 0], transform=fig.transFigure, figure=fig)\n",
    "fig.lines.extend([l1, l2])\n",
    "\n",
    "plt.show()"
   ]
  },
  {
   "cell_type": "markdown",
   "metadata": {},
   "source": [
    "Below is a recreation of the `Figure` object and a breif explanation of what each property is."
   ]
  },
  {
   "cell_type": "code",
   "execution_count": 15,
   "metadata": {},
   "outputs": [],
   "source": [
    "class Figure():\n",
    "    def __init__(self):\n",
    "        self.axes = [] #A list of Axes instances (includes Subplot)\n",
    "        self.patch = \"The Rectangle background\"\n",
    "        self.images = [] # A list of FigureImages patches\n",
    "        self.legends = [] # A list of Legend instances\n",
    "        self.lines = [] # A list of Figure Line2D instances\n",
    "        self.patches = [] # A list of Figure patches\n",
    "        self.texts = [] # A list Figure Text instances"
   ]
  },
  {
   "cell_type": "markdown",
   "metadata": {},
   "source": [
    "#### Axes Container"
   ]
  },
  {
   "cell_type": "markdown",
   "metadata": {},
   "source": [
    "The `matplotlib.axes.Axes` is the most important object in matplotlib as it contains the majority of all the Artists used in a figure and also many helper methods to create and add these Artists to itself, as well as helper methods to access and customize the Aritits it contains. Like the Figure, it contains a Patch patch which is a Rectangle for Cartesian coordinates and a Circle for polar cooerdinates; ths patch determines the shape background and border of the plotting region:"
   ]
  },
  {
   "cell_type": "code",
   "execution_count": 16,
   "metadata": {},
   "outputs": [],
   "source": [
    "ax = fig.add_subplot(111)\n",
    "rect = ax.patch # a rectangle instance\n",
    "rect.set_facecolor('green')"
   ]
  },
  {
   "cell_type": "markdown",
   "metadata": {},
   "source": [
    "When we call a plotting method such as the canonical `plot()` and pass in arrays or lists of values, tthe method will create a `matplotlib.lines.Line2D` instance, update the line will all the Line2D properties passed as keywod arguments, add the line to the `Axes.lines` container, and returns it to us."
   ]
  },
  {
   "cell_type": "code",
   "execution_count": 17,
   "metadata": {},
   "outputs": [],
   "source": [
    "x, y = np.random.rand(2, 100)\n",
    "\n",
    "line, = ax.plot(x, y, '-', color='blue', linewidth=2)"
   ]
  },
  {
   "cell_type": "markdown",
   "metadata": {},
   "source": [
    "The plot returns a list of lines in this case because, we can pass in multiple x and y pairs into it. The plot method unpacks each pair, creates a line, and appends it to the Axes."
   ]
  },
  {
   "cell_type": "code",
   "execution_count": 20,
   "metadata": {},
   "outputs": [
    {
     "name": "stdout",
     "output_type": "stream",
     "text": [
      "[<matplotlib.lines.Line2D object at 0x119735590>]\n"
     ]
    }
   ],
   "source": [
    "print(ax.lines)"
   ]
  },
  {
   "cell_type": "markdown",
   "metadata": {},
   "source": [
    "Methods that create patches, such as `bar()` creates a list of rectangle, that is added to the `Axes.patches` list:"
   ]
  },
  {
   "cell_type": "code",
   "execution_count": 21,
   "metadata": {},
   "outputs": [
    {
     "name": "stdout",
     "output_type": "stream",
     "text": [
      "50\n"
     ]
    }
   ],
   "source": [
    "n, bins, rectangles = ax.hist(np.random.randn(1000), 50, facecolor='yellow')\n",
    "\n",
    "rectangles\n",
    "\n",
    "print(len(ax.patches))"
   ]
  },
  {
   "cell_type": "markdown",
   "metadata": {},
   "source": [
    "We should not add objects directly to the `Axes.lines` or `Axes.patches` lists unless we know exactly what we are doin, because Axes will update a variety of things everytime we add an object to it. We can nonetheless, create objects ourselves and add them directly to the Axes using helper methods like `add_line()` and `add_patch()`. Lets just go over all the process once to get a feel of everything that is happening under the surface."
   ]
  },
  {
   "cell_type": "code",
   "execution_count": 22,
   "metadata": {},
   "outputs": [
    {
     "data": {
      "image/png": "[encoded data removed]",
      "text/plain": [
       "<Figure size 432x288 with 1 Axes>"
      ]
     },
     "metadata": {
      "needs_background": "light"
     },
     "output_type": "display_data"
    }
   ],
   "source": [
    "fig, ax = plt.subplots()"
   ]
  },
  {
   "cell_type": "code",
   "execution_count": 24,
   "metadata": {},
   "outputs": [],
   "source": [
    "# create a rectangel instance\n",
    "import matplotlib.patches\n",
    "rect = matplotlib.patches.Rectangle((1, 1), width=5, height=12)"
   ]
  },
  {
   "cell_type": "code",
   "execution_count": 25,
   "metadata": {},
   "outputs": [
    {
     "name": "stdout",
     "output_type": "stream",
     "text": [
      "None\n"
     ]
    }
   ],
   "source": [
    "# by default the axes instance is None\n",
    "print(rect.axes)"
   ]
  },
  {
   "cell_type": "code",
   "execution_count": 26,
   "metadata": {},
   "outputs": [
    {
     "name": "stdout",
     "output_type": "stream",
     "text": [
      "CompositeGenericTransform(\n",
      "    BboxTransformTo(\n",
      "        Bbox(x0=1.0, y0=1.0, x1=6.0, y1=13.0)),\n",
      "    Affine2D(\n",
      "        [[1. 0. 0.]\n",
      "         [0. 1. 0.]\n",
      "         [0. 0. 1.]]))\n"
     ]
    }
   ],
   "source": [
    "# and tthe transformation instance is set to the \"identity transformation\"\n",
    "print(rect.get_transform())"
   ]
  },
  {
   "cell_type": "code",
   "execution_count": 27,
   "metadata": {},
   "outputs": [
    {
     "data": {
      "text/plain": [
       "<matplotlib.patches.Rectangle at 0x1198d1d90>"
      ]
     },
     "execution_count": 27,
     "metadata": {},
     "output_type": "execute_result"
    }
   ],
   "source": [
    "# now we add the Rectangle to the Axes\n",
    "ax.add_patch(rect)"
   ]
  },
  {
   "cell_type": "code",
   "execution_count": 28,
   "metadata": {},
   "outputs": [
    {
     "name": "stdout",
     "output_type": "stream",
     "text": [
      "AxesSubplot(0.125,0.125;0.775x0.755)\n"
     ]
    }
   ],
   "source": [
    "# and notice that the ax.add_patch method has set the axes instance\n",
    "print(rect.axes)"
   ]
  },
  {
   "cell_type": "code",
   "execution_count": 29,
   "metadata": {},
   "outputs": [
    {
     "name": "stdout",
     "output_type": "stream",
     "text": [
      "CompositeGenericTransform(\n",
      "    TransformWrapper(\n",
      "        BlendedAffine2D(\n",
      "            IdentityTransform(),\n",
      "            IdentityTransform())),\n",
      "    CompositeGenericTransform(\n",
      "        BboxTransformFrom(\n",
      "            TransformedBbox(\n",
      "                Bbox(x0=0.0, y0=0.0, x1=1.0, y1=1.0),\n",
      "                TransformWrapper(\n",
      "                    BlendedAffine2D(\n",
      "                        IdentityTransform(),\n",
      "                        IdentityTransform())))),\n",
      "        BboxTransformTo(\n",
      "            TransformedBbox(\n",
      "                Bbox(x0=0.125, y0=0.125, x1=0.9, y1=0.88),\n",
      "                BboxTransformTo(\n",
      "                    TransformedBbox(\n",
      "                        Bbox(x0=0.0, y0=0.0, x1=6.0, y1=4.0),\n",
      "                        Affine2D(\n",
      "                            [[72.  0.  0.]\n",
      "                             [ 0. 72.  0.]\n",
      "                             [ 0.  0.  1.]])))))))\n"
     ]
    }
   ],
   "source": [
    "# tthe default axes transformation is ax.transData\n",
    "print(ax.transData)"
   ]
  },
  {
   "cell_type": "code",
   "execution_count": 30,
   "metadata": {},
   "outputs": [
    {
     "name": "stdout",
     "output_type": "stream",
     "text": [
      "(0.0, 1.0)\n"
     ]
    }
   ],
   "source": [
    "# notice that the xlimits of the Axes have not been changed\n",
    "print(ax.get_xlim())"
   ]
  },
  {
   "cell_type": "code",
   "execution_count": 31,
   "metadata": {},
   "outputs": [
    {
     "name": "stdout",
     "output_type": "stream",
     "text": [
      "(1.0, 1.0, 5.0, 12.0)\n"
     ]
    }
   ],
   "source": [
    "# but the data limits have been updatted to encompass the rectangle\n",
    "print(ax.dataLim.bounds)"
   ]
  },
  {
   "cell_type": "code",
   "execution_count": 32,
   "metadata": {},
   "outputs": [],
   "source": [
    "# we can manually invoke the auto-scaling machinery\n",
    "ax.autoscale_view()"
   ]
  },
  {
   "cell_type": "code",
   "execution_count": 33,
   "metadata": {},
   "outputs": [
    {
     "name": "stdout",
     "output_type": "stream",
     "text": [
      "(0.75, 6.25)\n"
     ]
    }
   ],
   "source": [
    "# and now the xlim are updated to encompass the rectangel\n",
    "print(ax.get_xlim())"
   ]
  },
  {
   "cell_type": "code",
   "execution_count": 34,
   "metadata": {},
   "outputs": [],
   "source": [
    "# we have to manually force a figure draw\n",
    "ax.figure.canvas.draw()"
   ]
  },
  {
   "cell_type": "markdown",
   "metadata": {},
   "source": [
    "Refer to the [Artist](https://matplotlib.org/tutorials/intermediate/artists.html#sphx-glr-tutorials-intermediate-artists-py) tutorial on matplotlib for a table of all the helper methods for Axes and where they store the objects they create. In addition to all of these Artists, the Axes contains two important Artist containers: the XAxis and YAxis, which handle the drawing of the ticks and labels. These are stored as instance variables xaxis and yaxis. The XAxis and YAxis containers will be detailed below, but note that the Axes contains many helper methods which forward calls on to the Axis instances so you often do not need to work with them directly unless you want to. For example, you can set the font color of the XAxis ticklabels using the Axes helper method:"
   ]
  },
  {
   "cell_type": "code",
   "execution_count": 35,
   "metadata": {},
   "outputs": [],
   "source": [
    "for label in ax.get_xticklabels():\n",
    "    label.set_color('orange')"
   ]
  },
  {
   "cell_type": "markdown",
   "metadata": {},
   "source": [
    "#### Axis containers"
   ]
  },
  {
   "cell_type": "code",
   "execution_count": null,
   "metadata": {},
   "outputs": [],
   "source": []
  }
 ],
 "metadata": {
  "kernelspec": {
   "display_name": "Python 3",
   "language": "python",
   "name": "python3"
  },
  "language_info": {
   "codemirror_mode": {
    "name": "ipython",
    "version": 3
   },
   "file_extension": ".py",
   "mimetype": "text/x-python",
   "name": "python",
   "nbconvert_exporter": "python",
   "pygments_lexer": "ipython3",
   "version": "3.7.6"
  }
 },
 "nbformat": 4,
 "nbformat_minor": 4
}
